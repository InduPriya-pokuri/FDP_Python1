{
 "cells": [
  {
   "cell_type": "markdown",
   "metadata": {},
   "source": [
    "## Packages and Modules Using OOPS"
   ]
  },
  {
   "cell_type": "markdown",
   "metadata": {},
   "source": [
    "- Packages and Modules using OOPS\n",
    "- similar to packages and modules using functions\n",
    "- But here we are dealing with classes and objects"
   ]
  },
  {
   "cell_type": "code",
   "execution_count": 1,
   "metadata": {},
   "outputs": [
    {
     "name": "stdout",
     "output_type": "stream",
     "text": [
      "7\n",
      "12\n",
      "-1\n",
      "0.4\n",
      "5\n"
     ]
    }
   ],
   "source": [
    "from packages.programs import *\n",
    "obj=calsi\n",
    "print(obj.add(2,5))\n",
    "print(obj.mul(2,6))\n",
    "print(obj.sub(2,3))\n",
    "print(obj.div(2,5))\n",
    "print(obj.mod(5,6))"
   ]
  },
  {
   "cell_type": "code",
   "execution_count": 2,
   "metadata": {},
   "outputs": [
    {
     "name": "stdout",
     "output_type": "stream",
     "text": [
      "32\n",
      "True\n",
      "False\n",
      "6\n",
      "False\n"
     ]
    }
   ],
   "source": [
    "from packages.programs import math\n",
    "obj1=math\n",
    "print(obj1.power(2,5))\n",
    "print(obj1.IsEven(6))\n",
    "print(obj1.IsOdd(6))\n",
    "print(obj1.IsOdd(int(input())))"
   ]
  },
  {
   "cell_type": "code",
   "execution_count": 3,
   "metadata": {},
   "outputs": [
    {
     "name": "stdout",
     "output_type": "stream",
     "text": [
      "12\n",
      "35\n"
     ]
    }
   ],
   "source": [
    "from packages.programs import *\n",
    "obj2=cal(5,7)\n",
    "print(obj2.__add__())\n",
    "print(obj2.__mul__())"
   ]
  },
  {
   "cell_type": "code",
   "execution_count": null,
   "metadata": {},
   "outputs": [],
   "source": []
  },
  {
   "cell_type": "code",
   "execution_count": null,
   "metadata": {},
   "outputs": [],
   "source": []
  },
  {
   "cell_type": "code",
   "execution_count": 10,
   "metadata": {},
   "outputs": [
    {
     "data": {
      "text/plain": [
       "20"
      ]
     },
     "execution_count": 10,
     "metadata": {},
     "output_type": "execute_result"
    }
   ],
   "source": [
    "from packages.myModule import *\n",
    "obj = Calci\n",
    "obj.add(10,10)"
   ]
  },
  {
   "cell_type": "code",
   "execution_count": 11,
   "metadata": {},
   "outputs": [
    {
     "data": {
      "text/plain": [
       "True"
      ]
     },
     "execution_count": 11,
     "metadata": {},
     "output_type": "execute_result"
    }
   ],
   "source": [
    "from packages.myModule import *\n",
    "obj1 = Calci1\n",
    "obj1.power(2,3)\n",
    "obj1.isEven(6)"
   ]
  },
  {
   "cell_type": "code",
   "execution_count": 13,
   "metadata": {},
   "outputs": [
    {
     "name": "stdout",
     "output_type": "stream",
     "text": [
      "7\n",
      "10\n"
     ]
    }
   ],
   "source": [
    "from packages.myModule import *\n",
    "obj2 = Modu(2,5)\n",
    "print(obj2.__add__())\n",
    "print(obj2.__mul__())\n",
    "#print(type(obj2.__add__()))"
   ]
  },
  {
   "cell_type": "code",
   "execution_count": null,
   "metadata": {},
   "outputs": [],
   "source": []
  }
 ],
 "metadata": {
  "kernelspec": {
   "display_name": "Python 3",
   "language": "python",
   "name": "python3"
  },
  "language_info": {
   "codemirror_mode": {
    "name": "ipython",
    "version": 3
   },
   "file_extension": ".py",
   "mimetype": "text/x-python",
   "name": "python",
   "nbconvert_exporter": "python",
   "pygments_lexer": "ipython3",
   "version": "3.7.3"
  }
 },
 "nbformat": 4,
 "nbformat_minor": 2
}
