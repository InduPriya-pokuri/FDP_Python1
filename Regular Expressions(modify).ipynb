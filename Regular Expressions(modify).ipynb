{
 "cells": [
  {
   "cell_type": "code",
   "execution_count": null,
   "metadata": {},
   "outputs": [],
   "source": [
    "# Regular Expressions:\n",
    "It can be sequence of characters that defines a search pattern:\n",
    "Its a module simple called as RegEx or re\n",
    "# this can be formed using\n",
    "1. metacharacters:\n",
    "    \n",
    "    [] .\n",
    "    ^ $ + ? {} () \\ |\n",
    "2. Special sequences\n",
    "\n",
    "3. Sets \n"
   ]
  },
  {
   "cell_type": "code",
   "execution_count": null,
   "metadata": {},
   "outputs": [],
   "source": [
    "\n",
    "# Regular Expression: \n",
    "--> A Regular Expression is a sequence of characters that defines a search \n",
    "                       pattern\n",
    "--> RegEx can be used to check if a string contains the specified search \n",
    "                          pattern\n",
    "--> We have a builtin module in python work to with RegEx i.e re\n",
    "--> We have to import that module into our python file by using a keyword\n",
    "            called re\n",
    "\n",
    "Syntax:  import re"
   ]
  },
  {
   "cell_type": "code",
   "execution_count": 1,
   "metadata": {},
   "outputs": [],
   "source": [
    "# Python RegEx or re module ?\n",
    "import re"
   ]
  },
  {
   "cell_type": "code",
   "execution_count": null,
   "metadata": {},
   "outputs": [],
   "source": [
    "#this module can have the many functions:\n",
    "1. match()\n",
    "2. search()\n",
    "3. findall()\n",
    "4. spilt()\n",
    "5. sub()"
   ]
  },
  {
   "cell_type": "code",
   "execution_count": null,
   "metadata": {},
   "outputs": [],
   "source": [
    "# search():  first occurence\n",
    "re.search(\"w\",\"workshop\")"
   ]
  },
  {
   "cell_type": "code",
   "execution_count": 14,
   "metadata": {},
   "outputs": [
    {
     "data": {
      "text/plain": [
       "<re.Match object; span=(0, 1), match='i'>"
      ]
     },
     "execution_count": 14,
     "metadata": {},
     "output_type": "execute_result"
    }
   ],
   "source": [
    "#search:\n",
    "re.search(\"i\",\"indupriya\")"
   ]
  },
  {
   "cell_type": "code",
   "execution_count": 15,
   "metadata": {},
   "outputs": [
    {
     "name": "stdout",
     "output_type": "stream",
     "text": [
      "<re.Match object; span=(0, 1), match='i'>\n"
     ]
    }
   ],
   "source": [
    "#match:\n",
    "import re\n",
    "print(re.match(\"i\",\"indupriya\"))\n",
    "#re.match(pattern,\"string/seqence\")\n",
    "#print(re,match())"
   ]
  },
  {
   "cell_type": "code",
   "execution_count": 13,
   "metadata": {},
   "outputs": [
    {
     "name": "stdout",
     "output_type": "stream",
     "text": [
      "pattern found inside the string\n"
     ]
    }
   ],
   "source": [
    "\n",
    "import re\n",
    "\n",
    "string = \"Python is fun\"\n",
    "\n",
    "# check if 'Python' is at the beginning\n",
    "match = re.search('\\APython', string)\n",
    "\n",
    "if match:\n",
    "  print(\"pattern found inside the string\")\n",
    "else:\n",
    "  print(\"pattern not found\")  \n",
    "\n",
    "# Output: pattern found inside the string"
   ]
  },
  {
   "cell_type": "code",
   "execution_count": null,
   "metadata": {},
   "outputs": [],
   "source": [
    "1.findall():\n",
    "     -> It returns a list containing all matches(or)\n",
    "        This module is used to search for all occurences that match a given pattern..."
   ]
  },
  {
   "cell_type": "code",
   "execution_count": 6,
   "metadata": {},
   "outputs": [
    {
     "name": "stdout",
     "output_type": "stream",
     "text": [
      "['ai', 'ai']\n"
     ]
    }
   ],
   "source": [
    "\n",
    "import re\n",
    "n=\"The rain in spain\"\n",
    "z=re.findall(\"ai\",n)\n",
    "print(z)"
   ]
  },
  {
   "cell_type": "code",
   "execution_count": 12,
   "metadata": {},
   "outputs": [
    {
     "name": "stdout",
     "output_type": "stream",
     "text": [
      "['i', 'i']\n",
      "['I']\n"
     ]
    }
   ],
   "source": [
    "#findall:\n",
    "print(re.findall(\"i\",\"induPriya\"))\n",
    "print(re.findall(\"I\",\"InduPriya\"))"
   ]
  },
  {
   "cell_type": "code",
   "execution_count": 13,
   "metadata": {},
   "outputs": [
    {
     "name": "stdout",
     "output_type": "stream",
     "text": [
      "[]\n"
     ]
    }
   ],
   "source": [
    "import re\n",
    "n=\"The rain in spain\"\n",
    "z=re.findall(\"ty\",n)\n",
    "print(z)"
   ]
  },
  {
   "cell_type": "code",
   "execution_count": 40,
   "metadata": {},
   "outputs": [
    {
     "name": "stdout",
     "output_type": "stream",
     "text": [
      "2\n",
      "9\n",
      "(2, 9)\n",
      "re.compile('(\\\\d{3}) (\\\\d{3})')\n",
      "39801 356, 2102 1111\n",
      "801 356\n"
     ]
    }
   ],
   "source": [
    "import re\n",
    "\n",
    "string = '39801 356, 2102 1111'\n",
    "\n",
    "# Three digit number followed by space followed by two digit number\n",
    "pattern = '(\\d{3}) (\\d{3})'  #d- for Returns a match where the string contains digits (numbers from 0-9)\n",
    "\n",
    "# match variable contains a Match object.\n",
    "match = re.search(pattern, string) \n",
    "print(match.start())\n",
    "print(match.end())\n",
    "print(match.span())\n",
    "print(match.re)\n",
    "print(match.string)\n",
    "\n",
    "if match:\n",
    "  print(match.group())   #You can get the part of the string of these parenthesized subgroups.\n",
    "else:\n",
    "  print(\"pattern not found\")"
   ]
  },
  {
   "cell_type": "code",
   "execution_count": 43,
   "metadata": {},
   "outputs": [
    {
     "name": "stdout",
     "output_type": "stream",
     "text": [
      "srinivas\n",
      "srinu\n",
      "viswanth\n",
      "surya\n",
      "vis\n"
     ]
    }
   ],
   "source": [
    "#findall:\n",
    "names=[\"InduPriya\",\"\",\"viswanth\",\"venkata gopi\",\"surya\",\"vis\",\"lucky\"]\n",
    "\n",
    "for name in names:\n",
    "    if re.findall(\"s\",name):\n",
    "        print(name)"
   ]
  },
  {
   "cell_type": "code",
   "execution_count": 44,
   "metadata": {},
   "outputs": [
    {
     "name": "stdout",
     "output_type": "stream",
     "text": [
      "['12', '89', '34']\n"
     ]
    }
   ],
   "source": [
    "#spilt():\n",
    "\n",
    "# Program to extract numbers from a string\n",
    "\n",
    "import re\n",
    "\n",
    "string = 'hello 12 hi 89. Howdy 34'\n",
    "pattern = '\\d+' #for Returns a match where the string contains digits (numbers from 0-9)\n",
    "\n",
    "result = re.findall(pattern, string) \n",
    "print(result)"
   ]
  },
  {
   "cell_type": "code",
   "execution_count": 48,
   "metadata": {},
   "outputs": [
    {
     "name": "stdout",
     "output_type": "stream",
     "text": [
      "['hello ', ' hi ', '. Howdy 34']\n"
     ]
    }
   ],
   "source": [
    "#spilt():\n",
    "\n",
    "# Program to extract numbers from a string\n",
    "\n",
    "import re\n",
    "\n",
    "string = 'hello 12 hi 89. Howdy 34'\n",
    "pattern = '\\d+' #for Returns a match where the string contains digits (numbers from 0-9)\n",
    "\n",
    "result = re.split(pattern, string,2) \n",
    "print(result)"
   ]
  },
  {
   "cell_type": "code",
   "execution_count": 52,
   "metadata": {},
   "outputs": [
    {
     "name": "stdout",
     "output_type": "stream",
     "text": [
      "('abc12de23f456', 4)\n"
     ]
    }
   ],
   "source": [
    "# Program to remove all whitespaces\n",
    "import re\n",
    "\n",
    "# multiline string\n",
    "string = 'abc 12\\\n",
    "de 23 \\n f45 6'\n",
    "\n",
    "# matches all whitespace characters\n",
    "pattern = '\\s+'\n",
    "\n",
    "# empty string\n",
    "replace = ''\n",
    "\n",
    "new_string = re.subn(pattern, replace, string) \n",
    "print(new_string)"
   ]
  },
  {
   "cell_type": "code",
   "execution_count": null,
   "metadata": {},
   "outputs": [],
   "source": [
    "patterns:\n",
    "    ^ - start\n",
    "    $ - end\n",
    "    [0-9] :- numbers\n",
    "    [a-z] :- small alphabets\n",
    "    [A-Z] :- Capital alphabets\n",
    "    [a-zA-Z]:- both alphabets\n",
    "    [@] :- Special Symbol\n",
    "    [.] :- Any character\n",
    "    [0-9]{4} :- we have to give 4 numbers\n",
    "    [0-9]{6} :- we have to give 6 numbers\n",
    "    | - another pattern...."
   ]
  },
  {
   "cell_type": "code",
   "execution_count": null,
   "metadata": {},
   "outputs": [],
   "source": [
    "#Phone number pattern:\n",
    "# names=open(\"data.txt\")\n",
    "\n",
    "pattern=\"^[6-9][0-9]{9}$|^[+][9][1][6-9][0-9]{9}$|^[0][6-9][0-9]{9}$\"\n",
    "for name in names:\n",
    "    if re.findall(pattern,name):\n",
    "        print(name)"
   ]
  },
  {
   "cell_type": "code",
   "execution_count": null,
   "metadata": {},
   "outputs": [],
   "source": [
    "# phone number validation\n",
    "starts with either 6,7,8,9 \n",
    "must contain 10 digits\n",
    "starts with +91 7658375389 \n",
    "^[6-9][0-9]{9}$--\n",
    "^[+][9][1][6-9][0-9]{9}$"
   ]
  },
  {
   "cell_type": "code",
   "execution_count": 3,
   "metadata": {},
   "outputs": [
    {
     "name": "stdout",
     "output_type": "stream",
     "text": [
      "Enter number: 6098754321\n",
      "Valid Number\n"
     ]
    }
   ],
   "source": [
    "import re\n",
    "phone_no=input('Enter number: ')\n",
    "pattern=\"^[6-9][0-9]{9}$|^[+][9][1][6-9][0-9]{9}$\"\n",
    "if re.match(pattern,phone_no):\n",
    "    print(\"Valid Number\")\n",
    "else:\n",
    "    print(\"Not Valid Number\")"
   ]
  },
  {
   "cell_type": "code",
   "execution_count": 5,
   "metadata": {},
   "outputs": [
    {
     "name": "stdout",
     "output_type": "stream",
     "text": [
      "enter emailindupriya.p@apssdc.in\n"
     ]
    }
   ],
   "source": [
    "# names=open(\"data.txt\")\n",
    "names=input(\"enter email\")\n",
    "\n",
    "pattern=\"^[a-z0-9._][a-z0-9._]{4,25}[@][a-z]{3,8}[.][a-z]{2,8}$\"\n",
    "for name in names:\n",
    "    if re.findall(pattern,name):\n",
    "        print(name)"
   ]
  },
  {
   "cell_type": "code",
   "execution_count": 56,
   "metadata": {},
   "outputs": [
    {
     "name": "stdout",
     "output_type": "stream",
     "text": [
      "Enter the StringC S E S T U D E N T S\n",
      "csestudentS\n"
     ]
    }
   ],
   "source": [
    "i=input(\"Enter the String\")\n",
    "i=i.replace(\" \", \"\")\n",
    "s=i[:len(i)-1]\n",
    "print(s.lower()+i[-1])"
   ]
  },
  {
   "cell_type": "code",
   "execution_count": 59,
   "metadata": {},
   "outputs": [
    {
     "name": "stdout",
     "output_type": "stream",
     "text": [
      "(11, 18)\n",
      "(38, 45)\n"
     ]
    }
   ],
   "source": [
    "import re\n",
    " \n",
    "Str = \"we need to inform him with the latest information\"\n",
    " \n",
    "for i in re.finditer(\"inform.\", Str):\n",
    "    locTuple = i.span()\n",
    "    print(locTuple)"
   ]
  },
  {
   "cell_type": "code",
   "execution_count": 16,
   "metadata": {},
   "outputs": [
    {
     "ename": "SyntaxError",
     "evalue": "invalid syntax (<ipython-input-16-39f924ee945b>, line 4)",
     "output_type": "error",
     "traceback": [
      "\u001b[1;36m  File \u001b[1;32m\"<ipython-input-16-39f924ee945b>\"\u001b[1;36m, line \u001b[1;32m4\u001b[0m\n\u001b[1;33m    1.username@domain\u001b[0m\n\u001b[1;37m             ^\u001b[0m\n\u001b[1;31mSyntaxError\u001b[0m\u001b[1;31m:\u001b[0m invalid syntax\n"
     ]
    }
   ],
   "source": [
    "# Task\n",
    "\n",
    "# Email validation:\n",
    "1.username@domain\n",
    "   username specifications:\n",
    "        a-z0-9\n",
    "        special symbols::::      _  .\n",
    "        length - 6 to 20 characters--   \n",
    "        \n",
    "        \n",
    "2.domain\n",
    "   a-z-- length- 5 to 10 characters   --- @gmail,@yahoo,............\n",
    "   a-z--- length - 2 to 5 characters --- .in,.org,..........."
   ]
  },
  {
   "cell_type": "code",
   "execution_count": null,
   "metadata": {},
   "outputs": [],
   "source": []
  }
 ],
 "metadata": {
  "kernelspec": {
   "display_name": "Python 3",
   "language": "python",
   "name": "python3"
  },
  "language_info": {
   "codemirror_mode": {
    "name": "ipython",
    "version": 3
   },
   "file_extension": ".py",
   "mimetype": "text/x-python",
   "name": "python",
   "nbconvert_exporter": "python",
   "pygments_lexer": "ipython3",
   "version": "3.7.3"
  }
 },
 "nbformat": 4,
 "nbformat_minor": 2
}
